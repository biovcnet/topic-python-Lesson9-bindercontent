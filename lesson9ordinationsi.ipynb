{
 "cells": [
  {
   "cell_type": "code",
   "execution_count": null,
   "metadata": {},
   "outputs": [],
   "source": [
    "#import required libraries\n",
    "import matplotlib\n",
    "from matplotlib import pyplot as plt\n",
    "import numpy as np\n",
    "import pandas as pd\n",
    "import skbio\n",
    "import skbio.diversity\n",
    "from skbio.diversity import * #pw_distances was renamed to beta_diversity and was moved to skbio.diversity\n",
    "from skbio.stats.distance import mantel\n",
    "from skbio.stats.ordination import *\n",
    "from mpl_toolkits.mplot3d import Axes3D\n",
    "import seaborn as sns"
   ]
  },
  {
   "cell_type": "code",
   "execution_count": null,
   "metadata": {},
   "outputs": [],
   "source": [
    "#import the OTU table and metadata table\n",
    "\n",
    "OTUtable=pd.read_csv(\"fullabsOTUsl7copy.csv\",index_col='#OTU ID')\n",
    "metadata=pd.read_csv(\"mapflcategorical.tsv\",delimiter=\"\\t\",index_col='#Sample ID')"
   ]
  },
  {
   "cell_type": "markdown",
   "metadata": {},
   "source": [
    "Let's first go through our route OTU and metadata table cleaning workflow, as in Python Lesson 8 (Pandas Part2)"
   ]
  },
  {
   "cell_type": "code",
   "execution_count": null,
   "metadata": {},
   "outputs": [],
   "source": [
    "#show chloroplast entries in OTU table\n",
    "OTUtable[OTUtable.index.str.contains('Chloroplast|chloroplast')]"
   ]
  },
  {
   "cell_type": "code",
   "execution_count": null,
   "metadata": {},
   "outputs": [],
   "source": [
    "#filter chloroplasts out of OTU table\n",
    "OTUtable=OTUtable[~OTUtable.index.str.contains('Chloroplast|chloroplast')]"
   ]
  },
  {
   "cell_type": "code",
   "execution_count": null,
   "metadata": {},
   "outputs": [],
   "source": [
    "#show rows from OTU table that have less than 10 reads in all samples\n",
    "OTUtable.loc[(OTUtable<10).all(axis=1)]"
   ]
  },
  {
   "cell_type": "code",
   "execution_count": null,
   "metadata": {},
   "outputs": [],
   "source": [
    "#remove rows from OTU table that have less than 10 reads in all samples\n",
    "OTUtable=OTUtable.loc[~(OTUtable<10).all(axis=1)]"
   ]
  },
  {
   "cell_type": "code",
   "execution_count": null,
   "metadata": {},
   "outputs": [],
   "source": [
    "OTUtable"
   ]
  },
  {
   "cell_type": "code",
   "execution_count": null,
   "metadata": {},
   "outputs": [],
   "source": [
    "#filter the metadata table. Need to drop any samples that are not in the OTU table (failed sequencing, decided not to sequence, etc)\n",
    "#samples that were successfully sequenced correspond to OTUtable column headers\n",
    "samplesSequenced=OTUtable.columns"
   ]
  },
  {
   "cell_type": "code",
   "execution_count": null,
   "metadata": {},
   "outputs": [],
   "source": [
    "toRem=[]\n",
    "for i in metadata.index:\n",
    "    if i not in samplesSequenced:\n",
    "        print(i,'not sequenced')\n",
    "        toRem.append(i)"
   ]
  },
  {
   "cell_type": "code",
   "execution_count": null,
   "metadata": {},
   "outputs": [],
   "source": [
    "#show the rows in metadata table that were not successfully sequenced\n",
    "metadata.loc[toRem]"
   ]
  },
  {
   "cell_type": "code",
   "execution_count": null,
   "metadata": {},
   "outputs": [],
   "source": [
    "#drop from metadata\n",
    "clMetadata=metadata.drop(toRem)"
   ]
  },
  {
   "cell_type": "markdown",
   "metadata": {},
   "source": [
    "The OTU pandas DataFrame has to be manipulated into the appropriate format for the Bray-Curtis and Jaccard Distance matrices. We have to define our sample IDs, meaning the discrete samples (not OTU names), swap the rows and columns of our OTUtable so that OTU IDs are columns and discrete samples are rows, and finally, convert the modified OTUtable to a fully numeric array."
   ]
  },
  {
   "cell_type": "code",
   "execution_count": null,
   "metadata": {},
   "outputs": [],
   "source": [
    "#set up the OTU data for Bray-Curtis and Jaccard Distance matrices- requires separating sample IDs\n",
    "#and formatting the numerical data as an array\n",
    "\n",
    "sampleIDs=OTUtable.columns #matrix IDs are sample IDs, not OTU ids"
   ]
  },
  {
   "cell_type": "code",
   "execution_count": null,
   "metadata": {},
   "outputs": [],
   "source": [
    "sampleIDs"
   ]
  },
  {
   "cell_type": "code",
   "execution_count": null,
   "metadata": {},
   "outputs": [],
   "source": [
    "#need to transpose rows and columns such that the sampleIDs become index and the OTU ids become column headers\n",
    "OTUdata=OTUtable.T.values"
   ]
  },
  {
   "cell_type": "code",
   "execution_count": null,
   "metadata": {},
   "outputs": [],
   "source": [
    "OTUdata"
   ]
  },
  {
   "cell_type": "markdown",
   "metadata": {},
   "source": [
    "Now that our OTU data is in the correct format, we can use the scikitbio `beta_diversity` function to create our jaccard and bray curtis distance matrices. The function arguments include the type of analysis to be performed and the appropriate input data. Specifics for different analyses can be found in the scikitbio documentation: http://scikit-bio.org/docs/latest/index.html"
   ]
  },
  {
   "cell_type": "code",
   "execution_count": null,
   "metadata": {},
   "outputs": [],
   "source": [
    "#jaccard distance is unweighted (doesnt consider abundance/phylogeny)- just tells us whether or not features are shared\n",
    "j_dm = beta_diversity(\"jaccard\",OTUdata, sampleIDs)"
   ]
  },
  {
   "cell_type": "markdown",
   "metadata": {},
   "source": [
    "Conveniently, the scikit bio jaccard and bray curtis distance matrices are automatically in a format such that typing them in will show a heatmap."
   ]
  },
  {
   "cell_type": "code",
   "execution_count": null,
   "metadata": {},
   "outputs": [],
   "source": [
    "j_dm"
   ]
  },
  {
   "cell_type": "code",
   "execution_count": null,
   "metadata": {},
   "outputs": [],
   "source": [
    "#bray curtis is similar to jaccard but weighted\n",
    "bc_dm = beta_diversity(\"braycurtis\",OTUdata, sampleIDs)"
   ]
  },
  {
   "cell_type": "code",
   "execution_count": null,
   "metadata": {},
   "outputs": [],
   "source": [
    "bc_dm"
   ]
  },
  {
   "cell_type": "markdown",
   "metadata": {},
   "source": [
    "A mantel test is a common \"checkpoint\" analysis that is used to compare bray-curtis and jaccard distance matrices. Usually this is to make sure that you have no accidentally used a binary array for bray-curtis and actual abundance data for jaccard and vice-versa. This is avoided by using scikitbio because you do not have to convert the OTU data to a binary array first. The function does this internally. We still expect that there is some correlation between the two. we will re-evaluate this later by plotting the difference between the two matrices as a heatmap."
   ]
  },
  {
   "cell_type": "code",
   "execution_count": null,
   "metadata": {},
   "outputs": [],
   "source": [
    "#can determine if jaccard and bray-curtis matrices are significantly correlated with one another using Mantel correlation\n",
    "r, p_value, n = mantel(j_dm, bc_dm)"
   ]
  },
  {
   "cell_type": "code",
   "execution_count": null,
   "metadata": {},
   "outputs": [],
   "source": [
    "r,p_value,n"
   ]
  },
  {
   "cell_type": "markdown",
   "metadata": {},
   "source": [
    "Once the distance matrices have been created, we can use them to perform a principle component ordination analysis. "
   ]
  },
  {
   "cell_type": "code",
   "execution_count": null,
   "metadata": {},
   "outputs": [],
   "source": [
    "#perform PCoA on both distance matrices, show the proportions explained by each PC\n",
    "bc_PCoA = pcoa(bc_dm)\n",
    "bc_PCoA_prps=bc_PCoA.proportion_explained\n",
    "bc_PCoA_mat=bc_PCoA.samples"
   ]
  },
  {
   "cell_type": "code",
   "execution_count": null,
   "metadata": {},
   "outputs": [],
   "source": [
    "bc_PCoA_mat"
   ]
  },
  {
   "cell_type": "code",
   "execution_count": null,
   "metadata": {},
   "outputs": [],
   "source": [
    "j_PCoA = pcoa(j_dm)\n",
    "j_PCoA_prps=j_PCoA.proportion_explained\n",
    "j_PCoA_mat=j_PCoA.samples"
   ]
  },
  {
   "cell_type": "code",
   "execution_count": null,
   "metadata": {},
   "outputs": [],
   "source": [
    "j_PCoA_mat"
   ]
  },
  {
   "cell_type": "code",
   "execution_count": null,
   "metadata": {},
   "outputs": [],
   "source": [
    "#Visualization- look at pcoa result matrices in seaborn heatmap, then look at 3D plots of the matrices color-coded by metadata\n",
    "#seaborn\n",
    "#examine all 3 together, then close\n",
    "\n",
    "sns.heatmap(bc_PCoA.samples)"
   ]
  },
  {
   "cell_type": "code",
   "execution_count": null,
   "metadata": {},
   "outputs": [],
   "source": [
    "sns.heatmap(j_PCoA.samples)"
   ]
  },
  {
   "cell_type": "markdown",
   "metadata": {},
   "source": [
    "We will see below that although the two matrices are infact correlated, their is still a visible difference between the two."
   ]
  },
  {
   "cell_type": "code",
   "execution_count": null,
   "metadata": {},
   "outputs": [],
   "source": [
    "sns.heatmap(bc_PCoA.samples - j_PCoA.samples)"
   ]
  },
  {
   "cell_type": "code",
   "execution_count": null,
   "metadata": {},
   "outputs": [],
   "source": [
    "plt.close()"
   ]
  },
  {
   "cell_type": "code",
   "execution_count": null,
   "metadata": {},
   "outputs": [],
   "source": [
    "#3D scatter with metadata\n",
    "#before we can do this, we need to remove any metadatacolumns that have NaN, or it won't work\n",
    "#pandas has a great function that returns columns with NaN!\n",
    "\n",
    "boolColNaN=clMetadata.isna().any()\n",
    "\n",
    "#get names of columns that don't have NaN, use to make dataframe\n",
    "noNanCols=boolColNaN[boolColNaN==False].index\n",
    "\n",
    "clMetadataNoNaN=clMetadata[noNanCols]"
   ]
  },
  {
   "cell_type": "code",
   "execution_count": null,
   "metadata": {},
   "outputs": [],
   "source": [
    "#don't x out plots until after both- show differences in the clustering using the two types of distance matrices"
   ]
  },
  {
   "cell_type": "markdown",
   "metadata": {},
   "source": [
    "Carefully compare some of the Jaccard and Bray-Curtis PCoA plots that are color-coded with categorical chemical data (e.g., methane, sulfide). The Jaccard clustering patterns will tell us more about how these variables drives the presence/absence of OTUs, while the Bray-Curtis PCoA will tell us more about how the relative abundances of those OTUs are driven by the chemistry."
   ]
  },
  {
   "cell_type": "code",
   "execution_count": null,
   "metadata": {},
   "outputs": [],
   "source": [
    "#bray curtis PCoA\n",
    "for col in clMetadataNoNaN.columns:\n",
    "    if col != 'Description':\n",
    "        bc_PCoA.plot(clMetadataNoNaN, column=col, axes=(0, 1, 2), axis_labels=['PC1','PC2','PC3'],title='samples colored by '+col+ ' BrayCurtis',cmap='viridis', s=20)\n",
    "        plt.show()"
   ]
  },
  {
   "cell_type": "code",
   "execution_count": null,
   "metadata": {},
   "outputs": [],
   "source": [
    "#jaccard PCoA\n",
    "for col in clMetadataNoNaN.columns:\n",
    "    if col != 'Description':\n",
    "        j_PCoA.plot(clMetadataNoNaN, column=col, axes=(0, 1, 2), axis_labels=['PC1','PC2','PC3'],title='samples colored by '+col+ ' Jaccard',cmap='viridis', s=20)\n",
    "        plt.show()"
   ]
  },
  {
   "cell_type": "code",
   "execution_count": null,
   "metadata": {},
   "outputs": [],
   "source": [
    "plt.close()"
   ]
  },
  {
   "cell_type": "code",
   "execution_count": null,
   "metadata": {},
   "outputs": [],
   "source": []
  }
 ],
 "metadata": {
  "kernelspec": {
   "display_name": "Python 3",
   "language": "python",
   "name": "python3"
  },
  "language_info": {
   "codemirror_mode": {
    "name": "ipython",
    "version": 3
   },
   "file_extension": ".py",
   "mimetype": "text/x-python",
   "name": "python",
   "nbconvert_exporter": "python",
   "pygments_lexer": "ipython3",
   "version": "3.7.4"
  }
 },
 "nbformat": 4,
 "nbformat_minor": 4
}
